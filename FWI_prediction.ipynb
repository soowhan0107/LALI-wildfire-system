{
 "cells": [
  {
   "cell_type": "code",
   "execution_count": 1,
   "metadata": {},
   "outputs": [
    {
     "data": {
      "text/html": [
       "<div>\n",
       "<style scoped>\n",
       "    .dataframe tbody tr th:only-of-type {\n",
       "        vertical-align: middle;\n",
       "    }\n",
       "\n",
       "    .dataframe tbody tr th {\n",
       "        vertical-align: top;\n",
       "    }\n",
       "\n",
       "    .dataframe thead th {\n",
       "        text-align: right;\n",
       "    }\n",
       "</style>\n",
       "<table border=\"1\" class=\"dataframe\">\n",
       "  <thead>\n",
       "    <tr style=\"text-align: right;\">\n",
       "      <th></th>\n",
       "      <th>aes</th>\n",
       "      <th>wmo</th>\n",
       "      <th>rep_date</th>\n",
       "      <th>temp</th>\n",
       "      <th>td</th>\n",
       "      <th>rh</th>\n",
       "      <th>ws</th>\n",
       "      <th>wg</th>\n",
       "      <th>wdir</th>\n",
       "      <th>pres</th>\n",
       "      <th>...</th>\n",
       "      <th>sog</th>\n",
       "      <th>ffmc</th>\n",
       "      <th>dmc</th>\n",
       "      <th>dc</th>\n",
       "      <th>bui</th>\n",
       "      <th>isi</th>\n",
       "      <th>fwi</th>\n",
       "      <th>dsr</th>\n",
       "      <th>opts</th>\n",
       "      <th>calcstatus</th>\n",
       "    </tr>\n",
       "  </thead>\n",
       "  <tbody>\n",
       "    <tr>\n",
       "      <th>0</th>\n",
       "      <td>1012475</td>\n",
       "      <td>71031</td>\n",
       "      <td>2016-01-01 12:00:00</td>\n",
       "      <td>2.9</td>\n",
       "      <td>-0.4</td>\n",
       "      <td>78.9</td>\n",
       "      <td>31.5</td>\n",
       "      <td>NaN</td>\n",
       "      <td>30</td>\n",
       "      <td>1028.80</td>\n",
       "      <td>...</td>\n",
       "      <td>0.0</td>\n",
       "      <td>71.2</td>\n",
       "      <td>0.4</td>\n",
       "      <td>1.3</td>\n",
       "      <td>NaN</td>\n",
       "      <td>NaN</td>\n",
       "      <td>NaN</td>\n",
       "      <td>NaN</td>\n",
       "      <td>IDW=RH:R:M=1:</td>\n",
       "      <td>0</td>\n",
       "    </tr>\n",
       "    <tr>\n",
       "      <th>1</th>\n",
       "      <td>1012710</td>\n",
       "      <td>71798</td>\n",
       "      <td>2016-01-01 12:00:00</td>\n",
       "      <td>2.9</td>\n",
       "      <td>-0.4</td>\n",
       "      <td>79.2</td>\n",
       "      <td>24.1</td>\n",
       "      <td>33.3</td>\n",
       "      <td>10</td>\n",
       "      <td>1029.00</td>\n",
       "      <td>...</td>\n",
       "      <td>0.0</td>\n",
       "      <td>79.0</td>\n",
       "      <td>0.9</td>\n",
       "      <td>2.9</td>\n",
       "      <td>NaN</td>\n",
       "      <td>NaN</td>\n",
       "      <td>NaN</td>\n",
       "      <td>NaN</td>\n",
       "      <td>M=1:</td>\n",
       "      <td>0</td>\n",
       "    </tr>\n",
       "    <tr>\n",
       "      <th>2</th>\n",
       "      <td>1013998</td>\n",
       "      <td>719143</td>\n",
       "      <td>2016-01-01 12:00:00</td>\n",
       "      <td>4.1</td>\n",
       "      <td>-0.8</td>\n",
       "      <td>71.0</td>\n",
       "      <td>25.9</td>\n",
       "      <td>NaN</td>\n",
       "      <td>40</td>\n",
       "      <td>1029.29</td>\n",
       "      <td>...</td>\n",
       "      <td>0.0</td>\n",
       "      <td>NaN</td>\n",
       "      <td>NaN</td>\n",
       "      <td>NaN</td>\n",
       "      <td>NaN</td>\n",
       "      <td>NaN</td>\n",
       "      <td>NaN</td>\n",
       "      <td>NaN</td>\n",
       "      <td>IDW=T:RH:R:M=1:</td>\n",
       "      <td>-3</td>\n",
       "    </tr>\n",
       "    <tr>\n",
       "      <th>3</th>\n",
       "      <td>1014820</td>\n",
       "      <td>71774</td>\n",
       "      <td>2016-01-01 12:00:00</td>\n",
       "      <td>-0.6</td>\n",
       "      <td>-2.9</td>\n",
       "      <td>84.6</td>\n",
       "      <td>15.5</td>\n",
       "      <td>NaN</td>\n",
       "      <td>13</td>\n",
       "      <td>1028.10</td>\n",
       "      <td>...</td>\n",
       "      <td>0.0</td>\n",
       "      <td>NaN</td>\n",
       "      <td>NaN</td>\n",
       "      <td>NaN</td>\n",
       "      <td>NaN</td>\n",
       "      <td>NaN</td>\n",
       "      <td>NaN</td>\n",
       "      <td>NaN</td>\n",
       "      <td>IDW=WSD:M=1:</td>\n",
       "      <td>-3</td>\n",
       "    </tr>\n",
       "    <tr>\n",
       "      <th>4</th>\n",
       "      <td>1016640</td>\n",
       "      <td>71778</td>\n",
       "      <td>2016-01-01 12:00:00</td>\n",
       "      <td>2.8</td>\n",
       "      <td>-0.3</td>\n",
       "      <td>80.3</td>\n",
       "      <td>40.7</td>\n",
       "      <td>50.0</td>\n",
       "      <td>40</td>\n",
       "      <td>1028.70</td>\n",
       "      <td>...</td>\n",
       "      <td>0.0</td>\n",
       "      <td>75.7</td>\n",
       "      <td>0.5</td>\n",
       "      <td>1.5</td>\n",
       "      <td>NaN</td>\n",
       "      <td>NaN</td>\n",
       "      <td>NaN</td>\n",
       "      <td>NaN</td>\n",
       "      <td>IDW=R:M=1:</td>\n",
       "      <td>0</td>\n",
       "    </tr>\n",
       "  </tbody>\n",
       "</table>\n",
       "<p>5 rows × 23 columns</p>\n",
       "</div>"
      ],
      "text/plain": [
       "       aes     wmo             rep_date  temp   td    rh    ws    wg  wdir  \\\n",
       "0  1012475   71031  2016-01-01 12:00:00   2.9 -0.4  78.9  31.5   NaN    30   \n",
       "1  1012710   71798  2016-01-01 12:00:00   2.9 -0.4  79.2  24.1  33.3    10   \n",
       "2  1013998  719143  2016-01-01 12:00:00   4.1 -0.8  71.0  25.9   NaN    40   \n",
       "3  1014820   71774  2016-01-01 12:00:00  -0.6 -2.9  84.6  15.5   NaN    13   \n",
       "4  1016640   71778  2016-01-01 12:00:00   2.8 -0.3  80.3  40.7  50.0    40   \n",
       "\n",
       "      pres     ...      sog  ffmc  dmc   dc  bui  isi  fwi  dsr  \\\n",
       "0  1028.80     ...      0.0  71.2  0.4  1.3  NaN  NaN  NaN  NaN   \n",
       "1  1029.00     ...      0.0  79.0  0.9  2.9  NaN  NaN  NaN  NaN   \n",
       "2  1029.29     ...      0.0   NaN  NaN  NaN  NaN  NaN  NaN  NaN   \n",
       "3  1028.10     ...      0.0   NaN  NaN  NaN  NaN  NaN  NaN  NaN   \n",
       "4  1028.70     ...      0.0  75.7  0.5  1.5  NaN  NaN  NaN  NaN   \n",
       "\n",
       "                                       opts  calcstatus  \n",
       "0                   IDW=RH:R:M=1:                     0  \n",
       "1                            M=1:                     0  \n",
       "2                 IDW=T:RH:R:M=1:                    -3  \n",
       "3                    IDW=WSD:M=1:                    -3  \n",
       "4                      IDW=R:M=1:                     0  \n",
       "\n",
       "[5 rows x 23 columns]"
      ]
     },
     "execution_count": 1,
     "metadata": {},
     "output_type": "execute_result"
    }
   ],
   "source": [
    "import numpy as np\n",
    "import pandas as pd\n",
    "import matplotlib.pyplot as plt\n",
    "from sklearn.linear_model import LinearRegression\n",
    "from sklearn.model_selection import train_test_split\n",
    "from sklearn.metrics import r2_score\n",
    "from sklearn.preprocessing import LabelEncoder\n",
    "\n",
    "data = pd.read_csv(\"./cwfis_fwi2016.csv\")\n",
    "\n",
    "data.head()"
   ]
  },
  {
   "cell_type": "code",
   "execution_count": 2,
   "metadata": {},
   "outputs": [
    {
     "data": {
      "text/plain": [
       "(300105, 23)"
      ]
     },
     "execution_count": 2,
     "metadata": {},
     "output_type": "execute_result"
    }
   ],
   "source": [
    "data.shape"
   ]
  },
  {
   "cell_type": "markdown",
   "metadata": {},
   "source": [
    "we have 300105 data sets"
   ]
  },
  {
   "cell_type": "code",
   "execution_count": 3,
   "metadata": {},
   "outputs": [],
   "source": [
    "df = data.dropna()"
   ]
  },
  {
   "cell_type": "code",
   "execution_count": 4,
   "metadata": {},
   "outputs": [
    {
     "data": {
      "text/html": [
       "<div>\n",
       "<style scoped>\n",
       "    .dataframe tbody tr th:only-of-type {\n",
       "        vertical-align: middle;\n",
       "    }\n",
       "\n",
       "    .dataframe tbody tr th {\n",
       "        vertical-align: top;\n",
       "    }\n",
       "\n",
       "    .dataframe thead th {\n",
       "        text-align: right;\n",
       "    }\n",
       "</style>\n",
       "<table border=\"1\" class=\"dataframe\">\n",
       "  <thead>\n",
       "    <tr style=\"text-align: right;\">\n",
       "      <th></th>\n",
       "      <th>aes</th>\n",
       "      <th>wmo</th>\n",
       "      <th>rep_date</th>\n",
       "      <th>temp</th>\n",
       "      <th>td</th>\n",
       "      <th>rh</th>\n",
       "      <th>ws</th>\n",
       "      <th>wg</th>\n",
       "      <th>wdir</th>\n",
       "      <th>pres</th>\n",
       "      <th>...</th>\n",
       "      <th>sog</th>\n",
       "      <th>ffmc</th>\n",
       "      <th>dmc</th>\n",
       "      <th>dc</th>\n",
       "      <th>bui</th>\n",
       "      <th>isi</th>\n",
       "      <th>fwi</th>\n",
       "      <th>dsr</th>\n",
       "      <th>opts</th>\n",
       "      <th>calcstatus</th>\n",
       "    </tr>\n",
       "  </thead>\n",
       "  <tbody>\n",
       "    <tr>\n",
       "      <th>20</th>\n",
       "      <td>1037553</td>\n",
       "      <td>71479</td>\n",
       "      <td>2016-01-01 12:00:00</td>\n",
       "      <td>8.2</td>\n",
       "      <td>-6.3</td>\n",
       "      <td>35.5</td>\n",
       "      <td>63.0</td>\n",
       "      <td>85.2</td>\n",
       "      <td>120</td>\n",
       "      <td>1021.5</td>\n",
       "      <td>...</td>\n",
       "      <td>0.0</td>\n",
       "      <td>84.9</td>\n",
       "      <td>1.1</td>\n",
       "      <td>3.9</td>\n",
       "      <td>1.3</td>\n",
       "      <td>49.8</td>\n",
       "      <td>19.2</td>\n",
       "      <td>5.1</td>\n",
       "      <td>M=1:</td>\n",
       "      <td>1</td>\n",
       "    </tr>\n",
       "    <tr>\n",
       "      <th>26</th>\n",
       "      <td>1051351</td>\n",
       "      <td>71107</td>\n",
       "      <td>2016-01-01 12:00:00</td>\n",
       "      <td>7.6</td>\n",
       "      <td>4.0</td>\n",
       "      <td>78.2</td>\n",
       "      <td>46.3</td>\n",
       "      <td>57.4</td>\n",
       "      <td>160</td>\n",
       "      <td>1020.2</td>\n",
       "      <td>...</td>\n",
       "      <td>0.0</td>\n",
       "      <td>64.6</td>\n",
       "      <td>0.2</td>\n",
       "      <td>6.8</td>\n",
       "      <td>0.3</td>\n",
       "      <td>5.4</td>\n",
       "      <td>1.7</td>\n",
       "      <td>0.1</td>\n",
       "      <td>M=1:</td>\n",
       "      <td>1</td>\n",
       "    </tr>\n",
       "    <tr>\n",
       "      <th>27</th>\n",
       "      <td>1054222</td>\n",
       "      <td>71472</td>\n",
       "      <td>2016-01-01 12:00:00</td>\n",
       "      <td>8.9</td>\n",
       "      <td>4.2</td>\n",
       "      <td>72.6</td>\n",
       "      <td>50.0</td>\n",
       "      <td>61.1</td>\n",
       "      <td>150</td>\n",
       "      <td>1016.7</td>\n",
       "      <td>...</td>\n",
       "      <td>0.0</td>\n",
       "      <td>81.4</td>\n",
       "      <td>1.7</td>\n",
       "      <td>10.6</td>\n",
       "      <td>2.5</td>\n",
       "      <td>16.5</td>\n",
       "      <td>9.3</td>\n",
       "      <td>1.4</td>\n",
       "      <td>M=1:</td>\n",
       "      <td>1</td>\n",
       "    </tr>\n",
       "    <tr>\n",
       "      <th>30</th>\n",
       "      <td>1056869</td>\n",
       "      <td>71477</td>\n",
       "      <td>2016-01-01 12:00:00</td>\n",
       "      <td>6.0</td>\n",
       "      <td>2.6</td>\n",
       "      <td>79.0</td>\n",
       "      <td>57.4</td>\n",
       "      <td>70.4</td>\n",
       "      <td>130</td>\n",
       "      <td>1019.8</td>\n",
       "      <td>...</td>\n",
       "      <td>0.0</td>\n",
       "      <td>48.6</td>\n",
       "      <td>0.1</td>\n",
       "      <td>0.8</td>\n",
       "      <td>0.2</td>\n",
       "      <td>2.5</td>\n",
       "      <td>0.5</td>\n",
       "      <td>0.0</td>\n",
       "      <td>M=1:</td>\n",
       "      <td>1</td>\n",
       "    </tr>\n",
       "    <tr>\n",
       "      <th>31</th>\n",
       "      <td>1057052</td>\n",
       "      <td>71111</td>\n",
       "      <td>2016-01-01 12:00:00</td>\n",
       "      <td>9.0</td>\n",
       "      <td>4.0</td>\n",
       "      <td>71.2</td>\n",
       "      <td>50.0</td>\n",
       "      <td>61.1</td>\n",
       "      <td>140</td>\n",
       "      <td>1018.5</td>\n",
       "      <td>...</td>\n",
       "      <td>0.0</td>\n",
       "      <td>78.9</td>\n",
       "      <td>0.6</td>\n",
       "      <td>5.4</td>\n",
       "      <td>1.0</td>\n",
       "      <td>12.7</td>\n",
       "      <td>5.9</td>\n",
       "      <td>0.6</td>\n",
       "      <td>M=1:</td>\n",
       "      <td>1</td>\n",
       "    </tr>\n",
       "  </tbody>\n",
       "</table>\n",
       "<p>5 rows × 23 columns</p>\n",
       "</div>"
      ],
      "text/plain": [
       "        aes    wmo             rep_date  temp   td    rh    ws    wg  wdir  \\\n",
       "20  1037553  71479  2016-01-01 12:00:00   8.2 -6.3  35.5  63.0  85.2   120   \n",
       "26  1051351  71107  2016-01-01 12:00:00   7.6  4.0  78.2  46.3  57.4   160   \n",
       "27  1054222  71472  2016-01-01 12:00:00   8.9  4.2  72.6  50.0  61.1   150   \n",
       "30  1056869  71477  2016-01-01 12:00:00   6.0  2.6  79.0  57.4  70.4   130   \n",
       "31  1057052  71111  2016-01-01 12:00:00   9.0  4.0  71.2  50.0  61.1   140   \n",
       "\n",
       "      pres     ...      sog  ffmc  dmc    dc  bui   isi   fwi  dsr  \\\n",
       "20  1021.5     ...      0.0  84.9  1.1   3.9  1.3  49.8  19.2  5.1   \n",
       "26  1020.2     ...      0.0  64.6  0.2   6.8  0.3   5.4   1.7  0.1   \n",
       "27  1016.7     ...      0.0  81.4  1.7  10.6  2.5  16.5   9.3  1.4   \n",
       "30  1019.8     ...      0.0  48.6  0.1   0.8  0.2   2.5   0.5  0.0   \n",
       "31  1018.5     ...      0.0  78.9  0.6   5.4  1.0  12.7   5.9  0.6   \n",
       "\n",
       "                                        opts  calcstatus  \n",
       "20                            M=1:                     1  \n",
       "26                            M=1:                     1  \n",
       "27                            M=1:                     1  \n",
       "30                            M=1:                     1  \n",
       "31                            M=1:                     1  \n",
       "\n",
       "[5 rows x 23 columns]"
      ]
     },
     "execution_count": 4,
     "metadata": {},
     "output_type": "execute_result"
    }
   ],
   "source": [
    "df.head()"
   ]
  },
  {
   "cell_type": "code",
   "execution_count": 5,
   "metadata": {},
   "outputs": [
    {
     "name": "stderr",
     "output_type": "stream",
     "text": [
      "c:\\users\\john soowhan park\\appdata\\local\\programs\\python\\python35\\lib\\site-packages\\ipykernel_launcher.py:3: SettingWithCopyWarning: \n",
      "A value is trying to be set on a copy of a slice from a DataFrame.\n",
      "Try using .loc[row_indexer,col_indexer] = value instead\n",
      "\n",
      "See the caveats in the documentation: http://pandas.pydata.org/pandas-docs/stable/indexing.html#indexing-view-versus-copy\n",
      "  This is separate from the ipykernel package so we can avoid doing imports until\n"
     ]
    }
   ],
   "source": [
    "#use this if you want to predict fwi score as percentage\n",
    "#otherwise, use fwi naturally\n",
    "df['fire_percentage'] = (df['fwi']/30)*100"
   ]
  },
  {
   "cell_type": "code",
   "execution_count": 6,
   "metadata": {},
   "outputs": [
    {
     "data": {
      "text/html": [
       "<div>\n",
       "<style scoped>\n",
       "    .dataframe tbody tr th:only-of-type {\n",
       "        vertical-align: middle;\n",
       "    }\n",
       "\n",
       "    .dataframe tbody tr th {\n",
       "        vertical-align: top;\n",
       "    }\n",
       "\n",
       "    .dataframe thead th {\n",
       "        text-align: right;\n",
       "    }\n",
       "</style>\n",
       "<table border=\"1\" class=\"dataframe\">\n",
       "  <thead>\n",
       "    <tr style=\"text-align: right;\">\n",
       "      <th></th>\n",
       "      <th>aes</th>\n",
       "      <th>wmo</th>\n",
       "      <th>rep_date</th>\n",
       "      <th>temp</th>\n",
       "      <th>td</th>\n",
       "      <th>rh</th>\n",
       "      <th>ws</th>\n",
       "      <th>wg</th>\n",
       "      <th>wdir</th>\n",
       "      <th>pres</th>\n",
       "      <th>...</th>\n",
       "      <th>ffmc</th>\n",
       "      <th>dmc</th>\n",
       "      <th>dc</th>\n",
       "      <th>bui</th>\n",
       "      <th>isi</th>\n",
       "      <th>fwi</th>\n",
       "      <th>dsr</th>\n",
       "      <th>opts</th>\n",
       "      <th>calcstatus</th>\n",
       "      <th>fire_percentage</th>\n",
       "    </tr>\n",
       "  </thead>\n",
       "  <tbody>\n",
       "    <tr>\n",
       "      <th>20</th>\n",
       "      <td>1037553</td>\n",
       "      <td>71479</td>\n",
       "      <td>2016-01-01 12:00:00</td>\n",
       "      <td>8.2</td>\n",
       "      <td>-6.3</td>\n",
       "      <td>35.5</td>\n",
       "      <td>63.0</td>\n",
       "      <td>85.2</td>\n",
       "      <td>120</td>\n",
       "      <td>1021.5</td>\n",
       "      <td>...</td>\n",
       "      <td>84.9</td>\n",
       "      <td>1.1</td>\n",
       "      <td>3.9</td>\n",
       "      <td>1.3</td>\n",
       "      <td>49.8</td>\n",
       "      <td>19.2</td>\n",
       "      <td>5.1</td>\n",
       "      <td>M=1:</td>\n",
       "      <td>1</td>\n",
       "      <td>64.000000</td>\n",
       "    </tr>\n",
       "    <tr>\n",
       "      <th>26</th>\n",
       "      <td>1051351</td>\n",
       "      <td>71107</td>\n",
       "      <td>2016-01-01 12:00:00</td>\n",
       "      <td>7.6</td>\n",
       "      <td>4.0</td>\n",
       "      <td>78.2</td>\n",
       "      <td>46.3</td>\n",
       "      <td>57.4</td>\n",
       "      <td>160</td>\n",
       "      <td>1020.2</td>\n",
       "      <td>...</td>\n",
       "      <td>64.6</td>\n",
       "      <td>0.2</td>\n",
       "      <td>6.8</td>\n",
       "      <td>0.3</td>\n",
       "      <td>5.4</td>\n",
       "      <td>1.7</td>\n",
       "      <td>0.1</td>\n",
       "      <td>M=1:</td>\n",
       "      <td>1</td>\n",
       "      <td>5.666667</td>\n",
       "    </tr>\n",
       "    <tr>\n",
       "      <th>27</th>\n",
       "      <td>1054222</td>\n",
       "      <td>71472</td>\n",
       "      <td>2016-01-01 12:00:00</td>\n",
       "      <td>8.9</td>\n",
       "      <td>4.2</td>\n",
       "      <td>72.6</td>\n",
       "      <td>50.0</td>\n",
       "      <td>61.1</td>\n",
       "      <td>150</td>\n",
       "      <td>1016.7</td>\n",
       "      <td>...</td>\n",
       "      <td>81.4</td>\n",
       "      <td>1.7</td>\n",
       "      <td>10.6</td>\n",
       "      <td>2.5</td>\n",
       "      <td>16.5</td>\n",
       "      <td>9.3</td>\n",
       "      <td>1.4</td>\n",
       "      <td>M=1:</td>\n",
       "      <td>1</td>\n",
       "      <td>31.000000</td>\n",
       "    </tr>\n",
       "    <tr>\n",
       "      <th>30</th>\n",
       "      <td>1056869</td>\n",
       "      <td>71477</td>\n",
       "      <td>2016-01-01 12:00:00</td>\n",
       "      <td>6.0</td>\n",
       "      <td>2.6</td>\n",
       "      <td>79.0</td>\n",
       "      <td>57.4</td>\n",
       "      <td>70.4</td>\n",
       "      <td>130</td>\n",
       "      <td>1019.8</td>\n",
       "      <td>...</td>\n",
       "      <td>48.6</td>\n",
       "      <td>0.1</td>\n",
       "      <td>0.8</td>\n",
       "      <td>0.2</td>\n",
       "      <td>2.5</td>\n",
       "      <td>0.5</td>\n",
       "      <td>0.0</td>\n",
       "      <td>M=1:</td>\n",
       "      <td>1</td>\n",
       "      <td>1.666667</td>\n",
       "    </tr>\n",
       "    <tr>\n",
       "      <th>31</th>\n",
       "      <td>1057052</td>\n",
       "      <td>71111</td>\n",
       "      <td>2016-01-01 12:00:00</td>\n",
       "      <td>9.0</td>\n",
       "      <td>4.0</td>\n",
       "      <td>71.2</td>\n",
       "      <td>50.0</td>\n",
       "      <td>61.1</td>\n",
       "      <td>140</td>\n",
       "      <td>1018.5</td>\n",
       "      <td>...</td>\n",
       "      <td>78.9</td>\n",
       "      <td>0.6</td>\n",
       "      <td>5.4</td>\n",
       "      <td>1.0</td>\n",
       "      <td>12.7</td>\n",
       "      <td>5.9</td>\n",
       "      <td>0.6</td>\n",
       "      <td>M=1:</td>\n",
       "      <td>1</td>\n",
       "      <td>19.666667</td>\n",
       "    </tr>\n",
       "  </tbody>\n",
       "</table>\n",
       "<p>5 rows × 24 columns</p>\n",
       "</div>"
      ],
      "text/plain": [
       "        aes    wmo             rep_date  temp   td    rh    ws    wg  wdir  \\\n",
       "20  1037553  71479  2016-01-01 12:00:00   8.2 -6.3  35.5  63.0  85.2   120   \n",
       "26  1051351  71107  2016-01-01 12:00:00   7.6  4.0  78.2  46.3  57.4   160   \n",
       "27  1054222  71472  2016-01-01 12:00:00   8.9  4.2  72.6  50.0  61.1   150   \n",
       "30  1056869  71477  2016-01-01 12:00:00   6.0  2.6  79.0  57.4  70.4   130   \n",
       "31  1057052  71111  2016-01-01 12:00:00   9.0  4.0  71.2  50.0  61.1   140   \n",
       "\n",
       "      pres       ...         ffmc  dmc    dc  bui   isi   fwi  dsr  \\\n",
       "20  1021.5       ...         84.9  1.1   3.9  1.3  49.8  19.2  5.1   \n",
       "26  1020.2       ...         64.6  0.2   6.8  0.3   5.4   1.7  0.1   \n",
       "27  1016.7       ...         81.4  1.7  10.6  2.5  16.5   9.3  1.4   \n",
       "30  1019.8       ...         48.6  0.1   0.8  0.2   2.5   0.5  0.0   \n",
       "31  1018.5       ...         78.9  0.6   5.4  1.0  12.7   5.9  0.6   \n",
       "\n",
       "                                        opts  calcstatus  fire_percentage  \n",
       "20                            M=1:                     1        64.000000  \n",
       "26                            M=1:                     1         5.666667  \n",
       "27                            M=1:                     1        31.000000  \n",
       "30                            M=1:                     1         1.666667  \n",
       "31                            M=1:                     1        19.666667  \n",
       "\n",
       "[5 rows x 24 columns]"
      ]
     },
     "execution_count": 6,
     "metadata": {},
     "output_type": "execute_result"
    }
   ],
   "source": [
    "df.head()"
   ]
  },
  {
   "cell_type": "code",
   "execution_count": 7,
   "metadata": {},
   "outputs": [],
   "source": [
    "df = df.drop(['aes', 'wmo', 'rep_date', 'td', 'wg', 'wdir', 'pres', 'vis', 'rndays', 'sog', 'ffmc', 'dmc', 'dc', 'bui', 'isi', 'dsr', 'opts', 'calcstatus'], axis=1)"
   ]
  },
  {
   "cell_type": "code",
   "execution_count": 8,
   "metadata": {},
   "outputs": [
    {
     "data": {
      "text/html": [
       "<div>\n",
       "<style scoped>\n",
       "    .dataframe tbody tr th:only-of-type {\n",
       "        vertical-align: middle;\n",
       "    }\n",
       "\n",
       "    .dataframe tbody tr th {\n",
       "        vertical-align: top;\n",
       "    }\n",
       "\n",
       "    .dataframe thead th {\n",
       "        text-align: right;\n",
       "    }\n",
       "</style>\n",
       "<table border=\"1\" class=\"dataframe\">\n",
       "  <thead>\n",
       "    <tr style=\"text-align: right;\">\n",
       "      <th></th>\n",
       "      <th>temp</th>\n",
       "      <th>rh</th>\n",
       "      <th>ws</th>\n",
       "      <th>precip</th>\n",
       "      <th>fwi</th>\n",
       "      <th>fire_percentage</th>\n",
       "    </tr>\n",
       "  </thead>\n",
       "  <tbody>\n",
       "    <tr>\n",
       "      <th>20</th>\n",
       "      <td>8.2</td>\n",
       "      <td>35.5</td>\n",
       "      <td>63.0</td>\n",
       "      <td>0.0</td>\n",
       "      <td>19.2</td>\n",
       "      <td>64.000000</td>\n",
       "    </tr>\n",
       "    <tr>\n",
       "      <th>26</th>\n",
       "      <td>7.6</td>\n",
       "      <td>78.2</td>\n",
       "      <td>46.3</td>\n",
       "      <td>2.3</td>\n",
       "      <td>1.7</td>\n",
       "      <td>5.666667</td>\n",
       "    </tr>\n",
       "    <tr>\n",
       "      <th>27</th>\n",
       "      <td>8.9</td>\n",
       "      <td>72.6</td>\n",
       "      <td>50.0</td>\n",
       "      <td>0.0</td>\n",
       "      <td>9.3</td>\n",
       "      <td>31.000000</td>\n",
       "    </tr>\n",
       "    <tr>\n",
       "      <th>30</th>\n",
       "      <td>6.0</td>\n",
       "      <td>79.0</td>\n",
       "      <td>57.4</td>\n",
       "      <td>5.6</td>\n",
       "      <td>0.5</td>\n",
       "      <td>1.666667</td>\n",
       "    </tr>\n",
       "    <tr>\n",
       "      <th>31</th>\n",
       "      <td>9.0</td>\n",
       "      <td>71.2</td>\n",
       "      <td>50.0</td>\n",
       "      <td>0.0</td>\n",
       "      <td>5.9</td>\n",
       "      <td>19.666667</td>\n",
       "    </tr>\n",
       "    <tr>\n",
       "      <th>36</th>\n",
       "      <td>8.5</td>\n",
       "      <td>76.7</td>\n",
       "      <td>61.1</td>\n",
       "      <td>0.0</td>\n",
       "      <td>9.3</td>\n",
       "      <td>31.000000</td>\n",
       "    </tr>\n",
       "    <tr>\n",
       "      <th>38</th>\n",
       "      <td>6.2</td>\n",
       "      <td>64.8</td>\n",
       "      <td>55.6</td>\n",
       "      <td>0.0</td>\n",
       "      <td>9.8</td>\n",
       "      <td>32.666667</td>\n",
       "    </tr>\n",
       "    <tr>\n",
       "      <th>609</th>\n",
       "      <td>-1.0</td>\n",
       "      <td>80.3</td>\n",
       "      <td>22.2</td>\n",
       "      <td>0.0</td>\n",
       "      <td>0.3</td>\n",
       "      <td>1.000000</td>\n",
       "    </tr>\n",
       "    <tr>\n",
       "      <th>782</th>\n",
       "      <td>4.0</td>\n",
       "      <td>87.0</td>\n",
       "      <td>18.5</td>\n",
       "      <td>4.6</td>\n",
       "      <td>0.0</td>\n",
       "      <td>0.000000</td>\n",
       "    </tr>\n",
       "    <tr>\n",
       "      <th>852</th>\n",
       "      <td>5.9</td>\n",
       "      <td>82.4</td>\n",
       "      <td>50.0</td>\n",
       "      <td>0.0</td>\n",
       "      <td>8.3</td>\n",
       "      <td>27.666667</td>\n",
       "    </tr>\n",
       "    <tr>\n",
       "      <th>858</th>\n",
       "      <td>8.2</td>\n",
       "      <td>75.1</td>\n",
       "      <td>38.9</td>\n",
       "      <td>2.1</td>\n",
       "      <td>0.8</td>\n",
       "      <td>2.666667</td>\n",
       "    </tr>\n",
       "    <tr>\n",
       "      <th>859</th>\n",
       "      <td>8.8</td>\n",
       "      <td>85.1</td>\n",
       "      <td>44.4</td>\n",
       "      <td>0.0</td>\n",
       "      <td>6.7</td>\n",
       "      <td>22.333333</td>\n",
       "    </tr>\n",
       "    <tr>\n",
       "      <th>862</th>\n",
       "      <td>7.3</td>\n",
       "      <td>82.0</td>\n",
       "      <td>48.2</td>\n",
       "      <td>2.9</td>\n",
       "      <td>0.5</td>\n",
       "      <td>1.666667</td>\n",
       "    </tr>\n",
       "    <tr>\n",
       "      <th>863</th>\n",
       "      <td>9.0</td>\n",
       "      <td>76.3</td>\n",
       "      <td>27.8</td>\n",
       "      <td>0.0</td>\n",
       "      <td>1.9</td>\n",
       "      <td>6.333333</td>\n",
       "    </tr>\n",
       "    <tr>\n",
       "      <th>866</th>\n",
       "      <td>7.4</td>\n",
       "      <td>68.9</td>\n",
       "      <td>29.6</td>\n",
       "      <td>0.0</td>\n",
       "      <td>1.2</td>\n",
       "      <td>4.000000</td>\n",
       "    </tr>\n",
       "    <tr>\n",
       "      <th>1614</th>\n",
       "      <td>4.0</td>\n",
       "      <td>60.7</td>\n",
       "      <td>11.1</td>\n",
       "      <td>0.3</td>\n",
       "      <td>0.1</td>\n",
       "      <td>0.333333</td>\n",
       "    </tr>\n",
       "    <tr>\n",
       "      <th>1685</th>\n",
       "      <td>5.0</td>\n",
       "      <td>65.5</td>\n",
       "      <td>7.4</td>\n",
       "      <td>0.0</td>\n",
       "      <td>0.4</td>\n",
       "      <td>1.333333</td>\n",
       "    </tr>\n",
       "    <tr>\n",
       "      <th>1691</th>\n",
       "      <td>8.0</td>\n",
       "      <td>64.8</td>\n",
       "      <td>16.7</td>\n",
       "      <td>0.0</td>\n",
       "      <td>1.6</td>\n",
       "      <td>5.333333</td>\n",
       "    </tr>\n",
       "    <tr>\n",
       "      <th>1692</th>\n",
       "      <td>5.9</td>\n",
       "      <td>88.4</td>\n",
       "      <td>16.7</td>\n",
       "      <td>0.0</td>\n",
       "      <td>0.3</td>\n",
       "      <td>1.000000</td>\n",
       "    </tr>\n",
       "    <tr>\n",
       "      <th>1695</th>\n",
       "      <td>7.0</td>\n",
       "      <td>75.9</td>\n",
       "      <td>27.8</td>\n",
       "      <td>0.0</td>\n",
       "      <td>2.2</td>\n",
       "      <td>7.333333</td>\n",
       "    </tr>\n",
       "  </tbody>\n",
       "</table>\n",
       "</div>"
      ],
      "text/plain": [
       "      temp    rh    ws  precip   fwi  fire_percentage\n",
       "20     8.2  35.5  63.0     0.0  19.2        64.000000\n",
       "26     7.6  78.2  46.3     2.3   1.7         5.666667\n",
       "27     8.9  72.6  50.0     0.0   9.3        31.000000\n",
       "30     6.0  79.0  57.4     5.6   0.5         1.666667\n",
       "31     9.0  71.2  50.0     0.0   5.9        19.666667\n",
       "36     8.5  76.7  61.1     0.0   9.3        31.000000\n",
       "38     6.2  64.8  55.6     0.0   9.8        32.666667\n",
       "609   -1.0  80.3  22.2     0.0   0.3         1.000000\n",
       "782    4.0  87.0  18.5     4.6   0.0         0.000000\n",
       "852    5.9  82.4  50.0     0.0   8.3        27.666667\n",
       "858    8.2  75.1  38.9     2.1   0.8         2.666667\n",
       "859    8.8  85.1  44.4     0.0   6.7        22.333333\n",
       "862    7.3  82.0  48.2     2.9   0.5         1.666667\n",
       "863    9.0  76.3  27.8     0.0   1.9         6.333333\n",
       "866    7.4  68.9  29.6     0.0   1.2         4.000000\n",
       "1614   4.0  60.7  11.1     0.3   0.1         0.333333\n",
       "1685   5.0  65.5   7.4     0.0   0.4         1.333333\n",
       "1691   8.0  64.8  16.7     0.0   1.6         5.333333\n",
       "1692   5.9  88.4  16.7     0.0   0.3         1.000000\n",
       "1695   7.0  75.9  27.8     0.0   2.2         7.333333"
      ]
     },
     "execution_count": 8,
     "metadata": {},
     "output_type": "execute_result"
    }
   ],
   "source": [
    "df.head(20)"
   ]
  },
  {
   "cell_type": "code",
   "execution_count": 9,
   "metadata": {},
   "outputs": [
    {
     "data": {
      "text/plain": [
       "(52092, 6)"
      ]
     },
     "execution_count": 9,
     "metadata": {},
     "output_type": "execute_result"
    }
   ],
   "source": [
    "df.shape"
   ]
  },
  {
   "cell_type": "code",
   "execution_count": 10,
   "metadata": {},
   "outputs": [],
   "source": [
    "df.to_csv(\"fwidataset2016\")"
   ]
  },
  {
   "cell_type": "code",
   "execution_count": 11,
   "metadata": {},
   "outputs": [],
   "source": [
    "X = df.iloc[:,[0,1,2,3,]]"
   ]
  },
  {
   "cell_type": "code",
   "execution_count": 12,
   "metadata": {},
   "outputs": [
    {
     "data": {
      "text/html": [
       "<div>\n",
       "<style scoped>\n",
       "    .dataframe tbody tr th:only-of-type {\n",
       "        vertical-align: middle;\n",
       "    }\n",
       "\n",
       "    .dataframe tbody tr th {\n",
       "        vertical-align: top;\n",
       "    }\n",
       "\n",
       "    .dataframe thead th {\n",
       "        text-align: right;\n",
       "    }\n",
       "</style>\n",
       "<table border=\"1\" class=\"dataframe\">\n",
       "  <thead>\n",
       "    <tr style=\"text-align: right;\">\n",
       "      <th></th>\n",
       "      <th>temp</th>\n",
       "      <th>rh</th>\n",
       "      <th>ws</th>\n",
       "      <th>precip</th>\n",
       "    </tr>\n",
       "  </thead>\n",
       "  <tbody>\n",
       "    <tr>\n",
       "      <th>20</th>\n",
       "      <td>8.2</td>\n",
       "      <td>35.5</td>\n",
       "      <td>63.0</td>\n",
       "      <td>0.0</td>\n",
       "    </tr>\n",
       "    <tr>\n",
       "      <th>26</th>\n",
       "      <td>7.6</td>\n",
       "      <td>78.2</td>\n",
       "      <td>46.3</td>\n",
       "      <td>2.3</td>\n",
       "    </tr>\n",
       "    <tr>\n",
       "      <th>27</th>\n",
       "      <td>8.9</td>\n",
       "      <td>72.6</td>\n",
       "      <td>50.0</td>\n",
       "      <td>0.0</td>\n",
       "    </tr>\n",
       "    <tr>\n",
       "      <th>30</th>\n",
       "      <td>6.0</td>\n",
       "      <td>79.0</td>\n",
       "      <td>57.4</td>\n",
       "      <td>5.6</td>\n",
       "    </tr>\n",
       "    <tr>\n",
       "      <th>31</th>\n",
       "      <td>9.0</td>\n",
       "      <td>71.2</td>\n",
       "      <td>50.0</td>\n",
       "      <td>0.0</td>\n",
       "    </tr>\n",
       "  </tbody>\n",
       "</table>\n",
       "</div>"
      ],
      "text/plain": [
       "    temp    rh    ws  precip\n",
       "20   8.2  35.5  63.0     0.0\n",
       "26   7.6  78.2  46.3     2.3\n",
       "27   8.9  72.6  50.0     0.0\n",
       "30   6.0  79.0  57.4     5.6\n",
       "31   9.0  71.2  50.0     0.0"
      ]
     },
     "execution_count": 12,
     "metadata": {},
     "output_type": "execute_result"
    }
   ],
   "source": [
    "X.head()"
   ]
  },
  {
   "cell_type": "code",
   "execution_count": 13,
   "metadata": {},
   "outputs": [],
   "source": [
    "y = df.fwi"
   ]
  },
  {
   "cell_type": "code",
   "execution_count": 14,
   "metadata": {},
   "outputs": [
    {
     "data": {
      "text/plain": [
       "20    19.2\n",
       "26     1.7\n",
       "27     9.3\n",
       "30     0.5\n",
       "31     5.9\n",
       "Name: fwi, dtype: float64"
      ]
     },
     "execution_count": 14,
     "metadata": {},
     "output_type": "execute_result"
    }
   ],
   "source": [
    "y.head()"
   ]
  },
  {
   "cell_type": "markdown",
   "metadata": {},
   "source": [
    "### EDA"
   ]
  },
  {
   "cell_type": "code",
   "execution_count": 15,
   "metadata": {},
   "outputs": [
    {
     "data": {
      "text/plain": [
       "<matplotlib.axes._subplots.AxesSubplot at 0x1ba702a7d30>"
      ]
     },
     "execution_count": 15,
     "metadata": {},
     "output_type": "execute_result"
    },
    {
     "data": {
      "image/png": "[encoded data removed]",
      "text/plain": [
       "<matplotlib.figure.Figure at 0x1ba702f0ba8>"
      ]
     },
     "metadata": {},
     "output_type": "display_data"
    }
   ],
   "source": [
    "#scatter plot of temp/fwi\n",
    "var = 'temp'\n",
    "data = pd.concat([y, X[var]], axis=1)\n",
    "data.plot.scatter(x=var, y='fwi')"
   ]
  },
  {
   "cell_type": "markdown",
   "metadata": {},
   "source": [
    "As we can see here, the temperature is the strongest feature that we can use (because we have the temp sensors) but, as we know from the common sense, temperature only will not dictate the value of fwi's. So, we will go on and look at other features such as humidity, wind_speed, and precipitation, and eventually use all 4 features to predict fwi. My team will implement Weather API to input these features into the prediction function that I make."
   ]
  },
  {
   "cell_type": "code",
   "execution_count": 16,
   "metadata": {},
   "outputs": [
    {
     "data": {
      "text/plain": [
       "<matplotlib.axes._subplots.AxesSubplot at 0x1ba702ff7b8>"
      ]
     },
     "execution_count": 16,
     "metadata": {},
     "output_type": "execute_result"
    },
    {
     "data": {
      "image/png": "[encoded data removed]",
      "text/plain": [
       "<matplotlib.figure.Figure at 0x1ba701702e8>"
      ]
     },
     "metadata": {},
     "output_type": "display_data"
    }
   ],
   "source": [
    "#scatter plot of rh(humidity)/fwi\n",
    "var = 'rh'\n",
    "data = pd.concat([y, X[var]], axis=1)\n",
    "data.plot.scatter(x=var, y='fwi')"
   ]
  },
  {
   "cell_type": "code",
   "execution_count": 17,
   "metadata": {},
   "outputs": [
    {
     "data": {
      "text/plain": [
       "<matplotlib.axes._subplots.AxesSubplot at 0x1ba7054e2e8>"
      ]
     },
     "execution_count": 17,
     "metadata": {},
     "output_type": "execute_result"
    },
    {
     "data": {
      "image/png": "[encoded data removed]",
      "text/plain": [
       "<matplotlib.figure.Figure at 0x1ba713d5128>"
      ]
     },
     "metadata": {},
     "output_type": "display_data"
    }
   ],
   "source": [
    "#scatter plot of ws(wind_speed)/fwi\n",
    "var = 'ws'\n",
    "data = pd.concat([y, X[var]], axis=1)\n",
    "data.plot.scatter(x=var, y='fwi')"
   ]
  },
  {
   "cell_type": "code",
   "execution_count": 18,
   "metadata": {},
   "outputs": [
    {
     "data": {
      "text/plain": [
       "<matplotlib.axes._subplots.AxesSubplot at 0x1ba7142aa90>"
      ]
     },
     "execution_count": 18,
     "metadata": {},
     "output_type": "execute_result"
    },
    {
     "data": {
      "image/png": "[encoded data removed]",
      "text/plain": [
       "<matplotlib.figure.Figure at 0x1ba71410438>"
      ]
     },
     "metadata": {},
     "output_type": "display_data"
    }
   ],
   "source": [
    "#scatter plot of temp/fwi\n",
    "var = 'precip'\n",
    "data = pd.concat([y, X[var]], axis=1)\n",
    "data.plot.scatter(x=var, y='fwi')"
   ]
  },
  {
   "cell_type": "code",
   "execution_count": 19,
   "metadata": {},
   "outputs": [],
   "source": [
    "X = pd.get_dummies(X, drop_first=True)"
   ]
  },
  {
   "cell_type": "code",
   "execution_count": 20,
   "metadata": {},
   "outputs": [],
   "source": [
    "X_train, X_test, y_train, y_test = train_test_split(X, y, test_size=.3)"
   ]
  },
  {
   "cell_type": "code",
   "execution_count": 21,
   "metadata": {},
   "outputs": [
    {
     "data": {
      "text/html": [
       "<div>\n",
       "<style scoped>\n",
       "    .dataframe tbody tr th:only-of-type {\n",
       "        vertical-align: middle;\n",
       "    }\n",
       "\n",
       "    .dataframe tbody tr th {\n",
       "        vertical-align: top;\n",
       "    }\n",
       "\n",
       "    .dataframe thead th {\n",
       "        text-align: right;\n",
       "    }\n",
       "</style>\n",
       "<table border=\"1\" class=\"dataframe\">\n",
       "  <thead>\n",
       "    <tr style=\"text-align: right;\">\n",
       "      <th></th>\n",
       "      <th>temp</th>\n",
       "      <th>rh</th>\n",
       "      <th>ws</th>\n",
       "      <th>precip</th>\n",
       "    </tr>\n",
       "  </thead>\n",
       "  <tbody>\n",
       "    <tr>\n",
       "      <th>168209</th>\n",
       "      <td>24.0</td>\n",
       "      <td>41.2</td>\n",
       "      <td>9.3</td>\n",
       "      <td>0.2</td>\n",
       "    </tr>\n",
       "    <tr>\n",
       "      <th>173480</th>\n",
       "      <td>15.0</td>\n",
       "      <td>72.2</td>\n",
       "      <td>24.1</td>\n",
       "      <td>0.5</td>\n",
       "    </tr>\n",
       "    <tr>\n",
       "      <th>144419</th>\n",
       "      <td>21.7</td>\n",
       "      <td>60.1</td>\n",
       "      <td>11.1</td>\n",
       "      <td>0.0</td>\n",
       "    </tr>\n",
       "    <tr>\n",
       "      <th>222309</th>\n",
       "      <td>19.0</td>\n",
       "      <td>42.8</td>\n",
       "      <td>13.0</td>\n",
       "      <td>0.0</td>\n",
       "    </tr>\n",
       "    <tr>\n",
       "      <th>212937</th>\n",
       "      <td>7.0</td>\n",
       "      <td>65.9</td>\n",
       "      <td>18.5</td>\n",
       "      <td>0.0</td>\n",
       "    </tr>\n",
       "  </tbody>\n",
       "</table>\n",
       "</div>"
      ],
      "text/plain": [
       "        temp    rh    ws  precip\n",
       "168209  24.0  41.2   9.3     0.2\n",
       "173480  15.0  72.2  24.1     0.5\n",
       "144419  21.7  60.1  11.1     0.0\n",
       "222309  19.0  42.8  13.0     0.0\n",
       "212937   7.0  65.9  18.5     0.0"
      ]
     },
     "execution_count": 21,
     "metadata": {},
     "output_type": "execute_result"
    }
   ],
   "source": [
    "X_train.head()"
   ]
  },
  {
   "cell_type": "markdown",
   "metadata": {},
   "source": [
    "### Feature Scailing"
   ]
  },
  {
   "cell_type": "code",
   "execution_count": 22,
   "metadata": {},
   "outputs": [],
   "source": [
    "from sklearn.preprocessing import StandardScaler\n",
    "\n",
    "sc = StandardScaler()\n",
    "X_train = sc.fit_transform(X_train)\n",
    "X_test = sc.transform(X_test)"
   ]
  },
  {
   "cell_type": "code",
   "execution_count": 23,
   "metadata": {},
   "outputs": [
    {
     "data": {
      "text/plain": [
       "LinearRegression(copy_X=True, fit_intercept=True, n_jobs=1, normalize=False)"
      ]
     },
     "execution_count": 23,
     "metadata": {},
     "output_type": "execute_result"
    }
   ],
   "source": [
    "linear = LinearRegression()\n",
    "linear.fit(X_train, y_train)"
   ]
  },
  {
   "cell_type": "code",
   "execution_count": 24,
   "metadata": {},
   "outputs": [],
   "source": [
    "pred = linear.predict(X_test)"
   ]
  },
  {
   "cell_type": "code",
   "execution_count": 25,
   "metadata": {},
   "outputs": [
    {
     "data": {
      "text/plain": [
       "0.50667870509834478"
      ]
     },
     "execution_count": 25,
     "metadata": {},
     "output_type": "execute_result"
    }
   ],
   "source": [
    "r2_score(y_test,pred)"
   ]
  },
  {
   "cell_type": "markdown",
   "metadata": {},
   "source": [
    "* the result is not ideal as expected. Success rate for predicting FWI score based on tempearture, humidity, wind_speed, and rain precipitation is 51%.\n",
    "* because our sensors will only have temp anyways and rely other data on other sources such as weather stations - which are not reliable - I will conduct linear regression prediction only using temp.\n",
    "* So, we will go ahead and use ML algo's other than linear regression. Let's look at Random Forrest first."
   ]
  },
  {
   "cell_type": "markdown",
   "metadata": {},
   "source": [
    "### Random Forrest"
   ]
  },
  {
   "cell_type": "code",
   "execution_count": 26,
   "metadata": {},
   "outputs": [],
   "source": [
    "from sklearn.ensemble import RandomForestRegressor\n",
    "\n",
    "regressor = RandomForestRegressor(n_estimators=20, random_state=0)  \n",
    "regressor.fit(X_train, y_train)  \n",
    "y_pred = regressor.predict(X_test)\n",
    "acc = regressor.score(X_test, y_test)"
   ]
  },
  {
   "cell_type": "code",
   "execution_count": 27,
   "metadata": {},
   "outputs": [
    {
     "name": "stdout",
     "output_type": "stream",
     "text": [
      "Mean Absolute Error: 4.12610963076\n",
      "Mean Squared Error: 41.5801971913\n",
      "Root Mean Squared Error: 6.44827086833\n",
      "Accuracy: 0.681946796418\n"
     ]
    }
   ],
   "source": [
    "from sklearn import metrics\n",
    "\n",
    "print('Mean Absolute Error:', metrics.mean_absolute_error(y_test, y_pred))  \n",
    "print('Mean Squared Error:', metrics.mean_squared_error(y_test, y_pred))  \n",
    "print('Root Mean Squared Error:', np.sqrt(metrics.mean_squared_error(y_test, y_pred)))\n",
    "print('Accuracy:', acc)"
   ]
  },
  {
   "cell_type": "markdown",
   "metadata": {},
   "source": [
    "* the result is way better than linear regression ml. Using RF, we can achieve 68%, which is much better than 50%. Let's try XGBoost as a last one."
   ]
  },
  {
   "cell_type": "markdown",
   "metadata": {},
   "source": [
    "### XGBoost"
   ]
  },
  {
   "cell_type": "code",
   "execution_count": 28,
   "metadata": {},
   "outputs": [
    {
     "ename": "ImportError",
     "evalue": "No module named 'xgboost'",
     "output_type": "error",
     "traceback": [
      "\u001b[1;31m---------------------------------------------------------------------------\u001b[0m",
      "\u001b[1;31mImportError\u001b[0m                               Traceback (most recent call last)",
      "\u001b[1;32m<ipython-input-28-5943d1bfe3f1>\u001b[0m in \u001b[0;36m<module>\u001b[1;34m()\u001b[0m\n\u001b[1;32m----> 1\u001b[1;33m \u001b[1;32mimport\u001b[0m \u001b[0mxgboost\u001b[0m \u001b[1;32mas\u001b[0m \u001b[0mxgb\u001b[0m\u001b[1;33m\u001b[0m\u001b[0m\n\u001b[0m",
      "\u001b[1;31mImportError\u001b[0m: No module named 'xgboost'"
     ]
    }
   ],
   "source": [
    "import xgboost as xgb"
   ]
  },
  {
   "cell_type": "code",
   "execution_count": 31,
   "metadata": {},
   "outputs": [
    {
     "name": "stderr",
     "output_type": "stream",
     "text": [
      "'sudo'은(는) 내부 또는 외부 명령, 실행할 수 있는 프로그램, 또는\n",
      "배치 파일이 아닙니다.\n"
     ]
    }
   ],
   "source": []
  },
  {
   "cell_type": "code",
   "execution_count": null,
   "metadata": {},
   "outputs": [],
   "source": []
  }
 ],
 "metadata": {
  "kernelspec": {
   "display_name": "Python 3",
   "language": "python",
   "name": "python3"
  },
  "language_info": {
   "codemirror_mode": {
    "name": "ipython",
    "version": 3
   },
   "file_extension": ".py",
   "mimetype": "text/x-python",
   "name": "python",
   "nbconvert_exporter": "python",
   "pygments_lexer": "ipython3",
   "version": "3.5.0"
  }
 },
 "nbformat": 4,
 "nbformat_minor": 2
}
